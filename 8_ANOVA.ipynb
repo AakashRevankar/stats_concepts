{
 "cells": [
  {
   "cell_type": "markdown",
   "metadata": {},
   "source": [
    "## ANOVA test"
   ]
  },
  {
   "cell_type": "markdown",
   "metadata": {},
   "source": [
    "The t-test is used to compare means of two different groups. But if we want to compare more than two groups at the same time, the ANOVA test comes into the play.\n",
    "\n",
    "We could carry out a seperate t-test for each pair of groups, but you need to conduct many tests and there are chances of increase in false positives.\n",
    "\n",
    "For instance, ANOVA test can be used to find if spending ammont differes based on the race. (We can compare it to each group)."
   ]
  },
  {
   "cell_type": "markdown",
   "metadata": {},
   "source": [
    "### One-Way ANOVA"
   ]
  },
  {
   "cell_type": "code",
   "execution_count": 6,
   "metadata": {},
   "outputs": [],
   "source": [
    "import numpy as np\n",
    "import pandas as pd\n",
    "import matplotlib.pyplot as plt\n",
    "import scipy.stats as stats"
   ]
  },
  {
   "cell_type": "code",
   "execution_count": 7,
   "metadata": {},
   "outputs": [
    {
     "data": {
      "text/plain": [
       "F_onewayResult(statistic=1.2700849903272182, pvalue=0.27993887862129274)"
      ]
     },
     "execution_count": 7,
     "metadata": {},
     "output_type": "execute_result"
    }
   ],
   "source": [
    "np.random.seed(12)\n",
    "\n",
    "races = [\"asian\", \"black\", \"hispanic\", \"other\", \"white\"]\n",
    "\n",
    "# Generate random data \n",
    "customer_race = np.random.choice(a = races,\n",
    "                              p = [0.05, 0.15, 0.25, 0.05, 0.5],\n",
    "                              size = 1000)\n",
    "\n",
    "customer_spending = stats.poisson.rvs(loc = 160,\n",
    "                              mu = 180, \n",
    "                              size = 1000)\n",
    "\n",
    "# Group age data by race \n",
    "customer_frame = pd.DataFrame({\"race\" : customer_race, \"spending\" : customer_spending})\n",
    "groups = customer_frame.groupby(\"race\").groups\n",
    "\n",
    "# Extract individual groups \n",
    "asian = customer_spending[groups[\"asian\"]]\n",
    "black = customer_spending[groups[\"black\"]]\n",
    "hispanic = customer_spending[groups[\"hispanic\"]]\n",
    "other = customer_spending[groups[\"other\"]]\n",
    "white = customer_spending[groups[\"white\"]]\n",
    "\n",
    "# Perform the ANOVA\n",
    "stats.f_oneway(asian, black, hispanic, other, white)"
   ]
  },
  {
   "cell_type": "markdown",
   "metadata": {},
   "source": [
    "The test output yields an F-statisitic of 1.774 and p-value of 0.1317, indicating that there is no significant difference between the means of each group."
   ]
  },
  {
   "cell_type": "code",
   "execution_count": 8,
   "metadata": {},
   "outputs": [
    {
     "name": "stdout",
     "output_type": "stream",
     "text": [
      "                 sum_sq     df         F    PR(>F)\n",
      "race         864.825396    4.0  1.270085  0.279939\n",
      "Residual  169378.678604  995.0       NaN       NaN\n"
     ]
    }
   ],
   "source": [
    "# Another way of ANOVA test using statsmodels library\n",
    "\n",
    "import statsmodels.api as sm\n",
    "from statsmodels.formula.api import ols\n",
    "\n",
    "model = ols('spending ~ race',\n",
    "            data = customer_frame).fit()\n",
    "\n",
    "anova_result = sm.stats.anova_lm(model, typ = 2)\n",
    "print(anova_result)"
   ]
  },
  {
   "cell_type": "markdown",
   "metadata": {},
   "source": [
    "The f-statistic and p-value is same as stats.f_oneway method. Now, we are conducting a second ANOVA where the group mean differ."
   ]
  },
  {
   "cell_type": "code",
   "execution_count": 11,
   "metadata": {},
   "outputs": [
    {
     "data": {
      "text/plain": [
       "F_onewayResult(statistic=42.68216981995261, pvalue=4.499433715390965e-33)"
      ]
     },
     "execution_count": 11,
     "metadata": {},
     "output_type": "execute_result"
    }
   ],
   "source": [
    "np.random.seed(12)\n",
    "\n",
    "#Generate random data\n",
    "# Generate random data \n",
    "customer_race = np.random.choice(a = races,\n",
    "                              p = [0.05, 0.15, 0.25, 0.05, 0.5],\n",
    "                              size = 1000)\n",
    "\n",
    "# Use a different distribution for white ages\n",
    "asian_spending = stats.poisson.rvs(loc = 160, \n",
    "                               mu = 150,\n",
    "                               size = 1000)\n",
    "\n",
    "customer_spending = stats.poisson.rvs(loc = 160,\n",
    "                               mu = 180,\n",
    "                               size = 1000)\n",
    "\n",
    "customer_spending = np.where(customer_race == \"asian\", asian_spending, customer_spending)\n",
    "\n",
    "# Group age data by race\n",
    "customer_frame = pd.DataFrame({\"race\": customer_race, \"spending\" : customer_spending})\n",
    "groups = customer_frame.groupby(\"race\").groups\n",
    "\n",
    "#Extract individual groups\n",
    "asian = customer_spending[groups[\"asian\"]]\n",
    "black = customer_spending[groups[\"black\"]]\n",
    "hispanic = customer_spending[groups[\"hispanic\"]]\n",
    "other = customer_spending[groups[\"other\"]]\n",
    "white = customer_spending[groups[\"white\"]]\n",
    "\n",
    "# Perform the ANOVA\n",
    "stats.f_oneway(asian, black, hispanic, other, white)"
   ]
  },
  {
   "cell_type": "markdown",
   "metadata": {},
   "source": [
    "The above f-statistic is large and p-value is extremely small. Hence, we can conclude that there is a difference between the mean groups."
   ]
  },
  {
   "cell_type": "code",
   "execution_count": 13,
   "metadata": {},
   "outputs": [
    {
     "name": "stdout",
     "output_type": "stream",
     "text": [
      "                 sum_sq     df         F        PR(>F)\n",
      "race       33802.252344    4.0  42.68217  4.499434e-33\n",
      "Residual  196998.191656  995.0       NaN           NaN\n"
     ]
    }
   ],
   "source": [
    "# Alternative  method using another ANOVA library\n",
    "model = ols('spending ~ race',\n",
    "            data = customer_frame).fit()\n",
    "\n",
    "anova_result = sm.stats.anova_lm(model, typ = 2)\n",
    "print(anova_result)"
   ]
  },
  {
   "cell_type": "markdown",
   "metadata": {},
   "source": [
    "Since, this is an example and we know that the value which has different mean is asian. But, in real testing data you may not know which groups differ which brings positive ANOVA result. So, we use \"post-hoc test\".\n",
    "\n",
    "One post-hoc test is to perform a seperate t-test for each pair of groups by using stats.ttest.ind() "
   ]
  },
  {
   "cell_type": "code",
   "execution_count": 14,
   "metadata": {},
   "outputs": [
    {
     "name": "stdout",
     "output_type": "stream",
     "text": [
      "asian black\n",
      "TtestResult(statistic=-12.155951131462295, pvalue=1.7065970870516051e-25, df=189.0)\n",
      "asian hispanic\n",
      "TtestResult(statistic=-11.969897178669905, pvalue=4.8680099682297216e-27, df=286.0)\n",
      "asian other\n",
      "TtestResult(statistic=-8.776344896014326, pvalue=8.565594259163764e-14, df=92.0)\n",
      "asian white\n",
      "TtestResult(statistic=-12.707737339934468, pvalue=1.143911231772521e-32, df=557.0)\n",
      "black hispanic\n",
      "TtestResult(statistic=-0.44794819722952234, pvalue=0.6544399505994691, df=389.0)\n",
      "black other\n",
      "TtestResult(statistic=0.5477710313964791, pvalue=0.5844755841981998, df=195.0)\n",
      "black white\n",
      "TtestResult(statistic=0.5162154285108982, pvalue=0.6058768562581311, df=660.0)\n",
      "hispanic other\n",
      "TtestResult(statistic=0.8185528593782156, pvalue=0.41370907572649684, df=292.0)\n",
      "hispanic white\n",
      "TtestResult(statistic=1.2042935413663347, pvalue=0.2288525440477409, df=757.0)\n",
      "other white\n",
      "TtestResult(statistic=-0.2705156569844665, pvalue=0.7868627120173518, df=563.0)\n"
     ]
    }
   ],
   "source": [
    "# Get all race pairs\n",
    "race_pairs = []\n",
    "\n",
    "for race1 in range(4):\n",
    "    for race2 in range(race1 + 1, 5) :\n",
    "        race_pairs.append((races[race1], races[race2]))\n",
    "\n",
    "# Conduct t-test on each pair\n",
    "for race1, race2 in race_pairs:\n",
    "    print(race1, race2)\n",
    "    print(stats.ttest_ind(customer_spending[groups[race1]],\n",
    "                          customer_spending[groups[race2]]))"
   ]
  },
  {
   "cell_type": "markdown",
   "metadata": {},
   "source": [
    "The p-value for pairwise t-test for asian customers are different from other groups, since the p-value for each t-test involves the asian group is below 0.05. Using unadjusted t-tests can overestimate significance. \n",
    "\n",
    "The simple way of correction is dividing the significance level by the number of comparions and it known as Bonferroni correction. \n",
    "\n",
    "For instance, we compared 10 different races. So, the p-value of 0.05 will be 0.05/10 = 0.005 or less. \n",
    "\n",
    "The Bonferroni correction is a conservative approach to account for multiple comparisons problem that may enc up rejecting results that are actually significant. Another common post-hoc test is Turkey's test.\n",
    "\n",
    "The Turkey's test using the pairwise_turkeyhsd() function  in the statsmodels.stats.multicomp library"
   ]
  },
  {
   "cell_type": "code",
   "execution_count": 21,
   "metadata": {},
   "outputs": [
    {
     "data": {
      "text/html": [
       "<table class=\"simpletable\">\n",
       "<caption>Multiple Comparison of Means - Tukey HSD, FWER=0.05</caption>\n",
       "<tr>\n",
       "   <th>group1</th>   <th>group2</th>  <th>meandiff</th>  <th>p-adj</th>  <th>lower</th>   <th>upper</th>  <th>reject</th>\n",
       "</tr>\n",
       "<tr>\n",
       "    <td>asian</td>    <td>black</td>   <td>28.4519</td>   <td>0.0</td>  <td>21.8441</td> <td>35.0597</td>  <td>True</td> \n",
       "</tr>\n",
       "<tr>\n",
       "    <td>asian</td>  <td>hispanic</td>  <td>29.1151</td>   <td>0.0</td>  <td>22.8172</td> <td>35.4131</td>  <td>True</td> \n",
       "</tr>\n",
       "<tr>\n",
       "    <td>asian</td>    <td>other</td>   <td>27.2355</td>   <td>0.0</td>  <td>19.2871</td> <td>35.1838</td>  <td>True</td> \n",
       "</tr>\n",
       "<tr>\n",
       "    <td>asian</td>    <td>white</td>   <td>27.7925</td>   <td>0.0</td>  <td>21.753</td>  <td>33.832</td>   <td>True</td> \n",
       "</tr>\n",
       "<tr>\n",
       "    <td>black</td>  <td>hispanic</td>  <td>0.6632</td>  <td>0.9914</td> <td>-3.3516</td>  <td>4.678</td>   <td>False</td>\n",
       "</tr>\n",
       "<tr>\n",
       "    <td>black</td>    <td>other</td>   <td>-1.2165</td> <td>0.9845</td> <td>-7.5117</td> <td>5.0788</td>   <td>False</td>\n",
       "</tr>\n",
       "<tr>\n",
       "    <td>black</td>    <td>white</td>   <td>-0.6594</td> <td>0.9873</td> <td>-4.2551</td> <td>2.9364</td>   <td>False</td>\n",
       "</tr>\n",
       "<tr>\n",
       "  <td>hispanic</td>   <td>other</td>   <td>-1.8797</td> <td>0.9112</td> <td>-7.8489</td> <td>4.0896</td>   <td>False</td>\n",
       "</tr>\n",
       "<tr>\n",
       "  <td>hispanic</td>   <td>white</td>   <td>-1.3226</td> <td>0.7459</td> <td>-4.311</td>  <td>1.6659</td>   <td>False</td>\n",
       "</tr>\n",
       "<tr>\n",
       "    <td>other</td>    <td>white</td>   <td>0.5571</td>  <td>0.9989</td> <td>-5.1388</td>  <td>6.253</td>   <td>False</td>\n",
       "</tr>\n",
       "</table>"
      ],
      "text/latex": [
       "\\begin{center}\n",
       "\\begin{tabular}{ccccccc}\n",
       "\\toprule\n",
       "\\textbf{group1} & \\textbf{group2} & \\textbf{meandiff} & \\textbf{p-adj} & \\textbf{lower} & \\textbf{upper} & \\textbf{reject}  \\\\\n",
       "\\midrule\n",
       "     asian      &      black      &      28.4519      &      0.0       &    21.8441     &    35.0597     &       True       \\\\\n",
       "     asian      &     hispanic    &      29.1151      &      0.0       &    22.8172     &    35.4131     &       True       \\\\\n",
       "     asian      &      other      &      27.2355      &      0.0       &    19.2871     &    35.1838     &       True       \\\\\n",
       "     asian      &      white      &      27.7925      &      0.0       &     21.753     &     33.832     &       True       \\\\\n",
       "     black      &     hispanic    &       0.6632      &     0.9914     &    -3.3516     &     4.678      &      False       \\\\\n",
       "     black      &      other      &      -1.2165      &     0.9845     &    -7.5117     &     5.0788     &      False       \\\\\n",
       "     black      &      white      &      -0.6594      &     0.9873     &    -4.2551     &     2.9364     &      False       \\\\\n",
       "    hispanic    &      other      &      -1.8797      &     0.9112     &    -7.8489     &     4.0896     &      False       \\\\\n",
       "    hispanic    &      white      &      -1.3226      &     0.7459     &     -4.311     &     1.6659     &      False       \\\\\n",
       "     other      &      white      &       0.5571      &     0.9989     &    -5.1388     &     6.253      &      False       \\\\\n",
       "\\bottomrule\n",
       "\\end{tabular}\n",
       "%\\caption{Multiple Comparison of Means - Tukey HSD, FWER=0.05}\n",
       "\\end{center}"
      ],
      "text/plain": [
       "<class 'statsmodels.iolib.table.SimpleTable'>"
      ]
     },
     "execution_count": 21,
     "metadata": {},
     "output_type": "execute_result"
    },
    {
     "data": {
      "image/png": "[encoded data removed]",
      "text/plain": [
       "<Figure size 1000x600 with 1 Axes>"
      ]
     },
     "metadata": {},
     "output_type": "display_data"
    }
   ],
   "source": [
    "from statsmodels.stats.multicomp import pairwise_tukeyhsd\n",
    "\n",
    "turkey = pairwise_tukeyhsd(endog =  customer_spending,  #Data\n",
    "                           groups = customer_race, #Groups\n",
    "                           alpha = 0.05)        #Significance level\n",
    "\n",
    "turkey.plot_simultaneous() # Plot group confidence intervals\n",
    "plt.vlines(x = 316, ymin = -0.5, ymax = 4.5, color = \"red\")\n",
    "\n",
    "turkey.summary()"
   ]
  },
  {
   "cell_type": "markdown",
   "metadata": {},
   "source": [
    "The output shows the average difference, a confidence interval as well as which group pair rejects the null hypothesis. For each of the pair including \"white\" category is differen from others.\n",
    "No grup overlaps with asian group's confidence interval, hence we conclude that \"asian\" category has different values."
   ]
  }
 ],
 "metadata": {
  "kernelspec": {
   "display_name": "machine-learn",
   "language": "python",
   "name": "python3"
  },
  "language_info": {
   "codemirror_mode": {
    "name": "ipython",
    "version": 3
   },
   "file_extension": ".py",
   "mimetype": "text/x-python",
   "name": "python",
   "nbconvert_exporter": "python",
   "pygments_lexer": "ipython3",
   "version": "3.11.5"
  }
 },
 "nbformat": 4,
 "nbformat_minor": 2
}
