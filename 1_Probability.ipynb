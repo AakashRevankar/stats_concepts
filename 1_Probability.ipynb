{
  "cells": [
    {
      "cell_type": "markdown",
      "metadata": {
        "id": "VXnSNd9gAFoV"
      },
      "source": [
        "# Probability basics\n",
        "\n",
        "\n",
        "\n",
        "\n"
      ]
    },
    {
      "cell_type": "markdown",
      "metadata": {
        "id": "fgTj3TEoDUML"
      },
      "source": [
        "### Probability Formula\n",
        "\n",
        "$$ P(\\text{event}) = \\frac{\\text{Number of outcomes of event}}{\\text{Total number of outcomes}} $$\n"
      ]
    },
    {
      "cell_type": "markdown",
      "metadata": {
        "id": "joRm-QnEAjEP"
      },
      "source": [
        "1. In your inbox if you have five spam emails and six promotional emails. What is the probability that the email you select is an spam?"
      ]
    },
    {
      "cell_type": "code",
      "execution_count": 2,
      "metadata": {
        "colab": {
          "base_uri": "https://localhost:8080/"
        },
        "id": "oTh0sPUwBbC6",
        "outputId": "827be852-365c-471c-85dc-dc2c2cc509be"
      },
      "outputs": [
        {
          "name": "stdout",
          "output_type": "stream",
          "text": [
            "The probability of spam emails in the inbox is: 0.455\n"
          ]
        }
      ],
      "source": [
        "# Given data\n",
        "num_spam_emails = 5\n",
        "num_promotional_emails = 6\n",
        "\n",
        "# Calculate the ratio of spam emails\n",
        "probability = num_spam_emails / (num_spam_emails + num_promotional_emails)\n",
        "probability = round(probability, 3)\n",
        "\n",
        "# Display the result\n",
        "print(f\"The probability of spam emails in the inbox is: {probability}\")"
      ]
    },
    {
      "cell_type": "markdown",
      "metadata": {
        "id": "6PCjLKBaDNMh"
      },
      "source": [
        "##Complement of probability\n",
        "\n",
        "\n",
        "$$ P(\\text{ham}) = 1 - P(\\text{spam}) $$"
      ]
    },
    {
      "cell_type": "code",
      "execution_count": 3,
      "metadata": {
        "colab": {
          "base_uri": "https://localhost:8080/"
        },
        "id": "oGYXWeY1IUZk",
        "outputId": "14a456d4-fd60-4fa2-8acd-d1d214db707f"
      },
      "outputs": [
        {
          "name": "stdout",
          "output_type": "stream",
          "text": [
            "The probability of ham emails is : 0.545 \n"
          ]
        }
      ],
      "source": [
        "print(f\"The probability of ham emails is : {round(1 - probability,3)} \")"
      ]
    },
    {
      "cell_type": "markdown",
      "metadata": {
        "id": "_3KT3W1CyVP_"
      },
      "source": [
        "## Disjoint and Joint events\n",
        "\n",
        "2. Suppose you have an inbox with twenty emails, and you define the following events:\n",
        "\n",
        "\n",
        "---\n",
        "\n",
        "\n",
        "Event A : Receiving seventeen spam emails from fake recruiter with a job offered with initial payment.\n",
        "Event B : Receiving three proper rejection letter(ham) from a reputed company .\n",
        "\n",
        "Calculate the probability for\n",
        "a) An email viewed is a spam or ham from the inbox\n",
        "b) An email viewed is spam and is from a reputed company"
      ]
    },
    {
      "cell_type": "code",
      "execution_count": 4,
      "metadata": {
        "colab": {
          "base_uri": "https://localhost:8080/"
        },
        "id": "_FbVLRjPwWri",
        "outputId": "729f1ede-a20b-46e4-f97b-09743cc054e1"
      },
      "outputs": [
        {
          "name": "stdout",
          "output_type": "stream",
          "text": [
            "Probability of Receiving a Spam Email: 0.85\n",
            "Probability of Receiving an Email from reputed company (Ham): 0.15\n",
            "Probability of Disjoint Events (Spam U Ham): 1.0\n",
            "Probability of Joint Events (Spam ∩ Ham): 0\n"
          ]
        }
      ],
      "source": [
        "# Given data\n",
        "total_emails = 20\n",
        "num_spam_emails = 17\n",
        "num_ham_emails = 3\n",
        "\n",
        "# Event A: Receiving a spam email\n",
        "prob_spam = num_spam_emails / total_emails\n",
        "\n",
        "# Event B: Receiving an email from your friend (ham)\n",
        "prob_ham = num_ham_emails / total_emails\n",
        "\n",
        "# Part 1: Disjoint Events\n",
        "# Probability of the union of disjoint events P(A U B) = P(A) + P(B)\n",
        "prob_disjoint = prob_spam + prob_ham\n",
        "\n",
        "# Part 2: Joint Event\n",
        "# Probability of the intersection of events P(A ∩ B) = 0\n",
        "#(assuming an email can't be both spam and from reputed company)\n",
        "prob_joint = 0\n",
        "\n",
        "# Display the results\n",
        "print(f\"Probability of Receiving a Spam Email: {prob_spam}\")\n",
        "print(f\"Probability of Receiving an Email from reputed company (Ham): {prob_ham}\")\n",
        "print(f\"Probability of Disjoint Events (Spam U Ham): {prob_disjoint}\")\n",
        "print(f\"Probability of Joint Events (Spam ∩ Ham): {prob_joint}\")"
      ]
    },
    {
      "cell_type": "markdown",
      "metadata": {
        "id": "a5ZSpyqZCI79"
      },
      "source": [
        "## Conditional probability\n",
        "\n",
        "$$ P(B|A) = \\frac{P(A \\cap B)}{P(A)} $$\n",
        "\n",
        "**If P(B|A) = P(B) and P(A|B) = P(A), then the events are independent**\n",
        "\n",
        "## Product rule\n",
        "\n",
        "*   Independent events\n",
        "$$ P(A \\cap B) = P(A) \\cdot P(B) $$\n",
        "\n",
        "*   Dependent events\n",
        "$$ P(A \\cap B) = P(A) \\cdot P(B|A) $$\n",
        "\n",
        "\n",
        "\n",
        "\n",
        "3. In an office with 100 employees, a recreational activity was organized. Forty employees play soccer, and sixty do not. Among the 40 employees who play soccer, 80% of them are fans of Ronaldo. How many employees play soccer and are fans of Ronaldo?\n",
        "\n",
        "\n",
        "\n"
      ]
    },
    {
      "cell_type": "code",
      "execution_count": 5,
      "metadata": {
        "colab": {
          "base_uri": "https://localhost:8080/"
        },
        "id": "nEXy_C4FkDKx",
        "outputId": "f25efdf2-76bf-430e-fd95-e9e13529d42e"
      },
      "outputs": [
        {
          "name": "stdout",
          "output_type": "stream",
          "text": [
            "Probability an employee plays soccer: 0.40\n",
            "Probability an employee does not play soccer: 0.60\n",
            "Probability an employee plays soccer and is a Ronaldo fan: 0.32\n",
            "\n",
            "Using the Product Rule:\n",
            "Probability an employee plays soccer and is a Ronaldo fan: 0.32\n"
          ]
        }
      ],
      "source": [
        "# Given data\n",
        "total_employees = 100\n",
        "soccer_players = 40\n",
        "ronaldo_fans_percentage = 0.8\n",
        "\n",
        "# Regular calculation\n",
        "prob_employ_play_soccer = soccer_players / total_employees\n",
        "prob_employ_not_play_soccer = 1 - prob_employ_play_soccer\n",
        "prob_employ_play_soccer_and_ronaldo_fan = ronaldo_fans_percentage * prob_employ_play_soccer\n",
        "\n",
        "# Product rule\n",
        "prob_soccer = 0.4\n",
        "prob_ronaldo_fan_given_soccer = 0.8\n",
        "prob_soccer_and_ronaldo = prob_soccer * prob_ronaldo_fan_given_soccer\n",
        "\n",
        "# Output statements\n",
        "print(f\"Probability an employee plays soccer: {prob_employ_play_soccer:.2f}\")\n",
        "print(f\"Probability an employee does not play soccer: {prob_employ_not_play_soccer:.2f}\")\n",
        "print(f\"Probability an employee plays soccer and is a Ronaldo fan: {prob_employ_play_soccer_and_ronaldo_fan:.2f}\")\n",
        "\n",
        "print(\"\\nUsing the Product Rule:\")\n",
        "print(f\"Probability an employee plays soccer and is a Ronaldo fan: {prob_soccer_and_ronaldo:.2f}\")\n"
      ]
    },
    {
      "cell_type": "markdown",
      "metadata": {
        "id": "rceYgj-JQEdY"
      },
      "source": [
        "###Note:\n",
        "1. Events are considered disjoint if they never occur at the same time; these are also known as mutually exclusive events. Events are considered independent if they are unrelated.\n",
        "\n",
        "2. Conditional probabilities depend on a previous result or event occurring. A conditional probability would look at such events in relationship with one another. Conditional probability is thus the likelihood of an event or outcome occurring based on the occurrence of some other event or prior outcome.\n",
        "\n",
        "3. Two events are said to be independent if one event occurring does not affect the probability that the other event will occur. However, if one event occurring or not does, in fact, affect the probability that the other event will occur, the two events are said to be dependent. If events are independent, then the probability of some event B is not contingent on what happens with event A. A conditional probability, therefore, relates to those events that are dependent on one another."
      ]
    },
    {
      "cell_type": "markdown",
      "metadata": {
        "id": "3N28h2JUCqzT"
      },
      "source": [
        "## Birthday problem"
      ]
    },
    {
      "cell_type": "code",
      "execution_count": 6,
      "metadata": {
        "id": "M4oFXr4DPdgp"
      },
      "outputs": [],
      "source": [
        "# Importing libraries\n",
        "import random\n",
        "\n",
        "# Assigning the number of months and days in a year to pick an random date\n",
        "months_days = {\"Jan\" : 31, \"Feb\" : 28, \"Mar\": 31, \"Apr\": 30, \"May\" : 31, \"Jun\" : 30, \"Jul\": 31, \"Aug\" : 31, \"Sep\" : 30, \"Oct\" : 31, \"Nov\": 30, \"Dec\": 31}"
      ]
    },
    {
      "cell_type": "markdown",
      "metadata": {
        "id": "nJyRFuOOArXU"
      },
      "source": [
        "##### Functions for the problem"
      ]
    },
    {
      "cell_type": "code",
      "execution_count": 9,
      "metadata": {
        "colab": {
          "base_uri": "https://localhost:8080/",
          "height": 449
        },
        "id": "hDlIkFjbAhU9",
        "outputId": "2be4473d-d66f-4eda-b9c8-7cceffdc3520"
      },
      "outputs": [
        {
          "data": {
            "image/png": "[encoded data removed]",
            "text/plain": [
              "<Figure size 640x480 with 1 Axes>"
            ]
          },
          "metadata": {},
          "output_type": "display_data"
        }
      ],
      "source": [
        "# Function to get date and month\n",
        "\n",
        "def get_birthday():\n",
        "    month = random.choice(list(months_days.keys()))\n",
        "    date = random.randint(1, months_days[month])\n",
        "    return (month, date)\n",
        "\n",
        "\n",
        "# Function to get a list of birthday of random individuals\n",
        "\n",
        "def birthday_lists(num_people):\n",
        "    list_birthday = []\n",
        "    for i in range(0, num_people + 1):\n",
        "        list_birthday.append(get_birthday())\n",
        "    return list_birthday\n",
        "\n",
        "# Function to match birthdays\n",
        "\n",
        "def birthday_check_match(list_of_bdays):\n",
        "    match = False\n",
        "    for i_2 in range(len(list_of_bdays)) :\n",
        "        for bday in list_of_bdays[i_2 + 1 :] :\n",
        "            if list_of_bdays[i_2][0] == bday[0] and list_of_bdays[i_2][1] == bday[1] :\n",
        "                match = True\n",
        "                break\n",
        "    return match\n",
        "\n",
        "# Function to count the number of matches for the trials\n",
        "def num_matches(num_people, num_trials):\n",
        "    total_matches = 0\n",
        "    for i_3 in range(num_trials):\n",
        "        match_in_each_trial = birthday_check_match(birthday_lists(num_people))\n",
        "        total_matches += match_in_each_trial\n",
        "\n",
        "    final_matches = total_matches / num_trials\n",
        "    return final_matches\n",
        "\n",
        "import matplotlib.pyplot as plt\n",
        "\n",
        "k = 100\n",
        "n = 25\n",
        "X = [x for x in range(k)]\n",
        "match_probability = [num_matches(x, n) for x in X]\n",
        "plt.plot(X, match_probability)\n",
        "plt.xlabel('k')\n",
        "plt.ylabel('probability of birthday match')\n",
        "plt.show()\n"
      ]
    }
  ],
  "metadata": {
    "accelerator": "GPU",
    "colab": {
      "gpuType": "T4",
      "provenance": []
    },
    "kernelspec": {
      "display_name": "Python 3",
      "name": "python3"
    },
    "language_info": {
      "codemirror_mode": {
        "name": "ipython",
        "version": 3
      },
      "file_extension": ".py",
      "mimetype": "text/x-python",
      "name": "python",
      "nbconvert_exporter": "python",
      "pygments_lexer": "ipython3",
      "version": "3.11.5"
    }
  },
  "nbformat": 4,
  "nbformat_minor": 0
}
