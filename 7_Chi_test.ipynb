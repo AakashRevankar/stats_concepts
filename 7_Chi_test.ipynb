{
 "cells": [
  {
   "cell_type": "markdown",
   "metadata": {},
   "source": [
    "## Chi-square distribution"
   ]
  },
  {
   "cell_type": "markdown",
   "metadata": {},
   "source": [
    "The chi-squared goodness-of-fit test is an analog of the one way t-test for categorical variables; it tests whether the distribution of sample categorical data matches with an expected distribution. \n",
    "\n",
    "For instance, you could use a chi-squared goodness-of-fit test to check whehter the computer browser preferences of your friends match those of internet users as a whole or the spending habit of customers at your comapny match that of entire customers in the Ireland.\n",
    "\n",
    "Let's generate some fake customer spending data for all retail stores and Primark and walk through the chi-square goodness of fit test to check whether they are different"
   ]
  },
  {
   "cell_type": "code",
   "execution_count": 1,
   "metadata": {},
   "outputs": [],
   "source": [
    "import numpy as np\n",
    "import pandas as pd\n",
    "import scipy.stats as stats"
   ]
  },
  {
   "cell_type": "code",
   "execution_count": 2,
   "metadata": {},
   "outputs": [
    {
     "name": "stdout",
     "output_type": "stream",
     "text": [
      "Ireland retail\n",
      "col_0   count\n",
      "0            \n",
      "Feb     60000\n",
      "Jan    100000\n",
      "Nov     30000\n",
      "Other   10000\n",
      "Sep     50000\n",
      " \n",
      "Primark\n",
      "col_0  count\n",
      "0           \n",
      "Feb      500\n",
      "Jan      800\n",
      "Nov       75\n",
      "Other    150\n",
      "Sep      250\n"
     ]
    }
   ],
   "source": [
    "ireland_retail = pd.DataFrame([\"Jan\"] * 100000 + [\"Feb\"] * 60000 +\\\n",
    "                              [\"Sep\"] * 50000+ [\"Nov\"] * 30000 +\\\n",
    "                                [\"Other\"] * 10000)\n",
    "\n",
    "primark = pd.DataFrame([\"Jan\"] * 800 + [\"Feb\"] * 500 + \\\n",
    "                       [\"Sep\"] * 250 + [\"Nov\"] * 75 +\\\n",
    "                        [\"Other\"] * 150)\n",
    "\n",
    "ireland_retail_table = pd.crosstab(index = ireland_retail[0], columns= \"count\")\n",
    "primark_retail_table = pd.crosstab(index = primark[0], columns = \"count\")\n",
    "\n",
    "print(\"Ireland retail\")\n",
    "print(ireland_retail_table)\n",
    "print(\" \")\n",
    "print(\"Primark\")\n",
    "print(primark_retail_table)"
   ]
  },
  {
   "cell_type": "code",
   "execution_count": 3,
   "metadata": {},
   "outputs": [
    {
     "name": "stdout",
     "output_type": "stream",
     "text": [
      "col_0  count\n",
      "0           \n",
      "Feb     0.24\n",
      "Jan     0.40\n",
      "Nov     0.12\n",
      "Other   0.04\n",
      "Sep     0.20\n",
      "col_0\n",
      "count    232.629108\n",
      "dtype: float64\n"
     ]
    }
   ],
   "source": [
    "observed_table = primark_retail_table\n",
    "ireland_retail_ratios = ireland_retail_table / len(ireland_retail)\n",
    "print(ireland_retail_ratios)\n",
    "\n",
    "expected_table = ireland_retail_ratios * len(primark)\n",
    "chi_squared_stat = (((observed_table - expected_table) ** 2) / expected_table).sum()\n",
    "print(chi_squared_stat)"
   ]
  },
  {
   "cell_type": "markdown",
   "metadata": {},
   "source": [
    "Note : The chi-squared test assumes none of the expected counts are less than 5.\n",
    "\n",
    "In t-test where we compare t-test statistic to a critical value based on the t-distribution to determine whether the result is significant. Similarly, in chi-squared distribution, we compare the chi-square test statistic to a critical value based on chi-squared distribution. "
   ]
  },
  {
   "cell_type": "code",
   "execution_count": 4,
   "metadata": {},
   "outputs": [
    {
     "name": "stdout",
     "output_type": "stream",
     "text": [
      "Critical value\n",
      "9.487729036781154\n",
      "P value\n",
      "[0.]\n"
     ]
    }
   ],
   "source": [
    "crit = stats.chi2.ppf(q = 0.95, # Confidence interval = 95%\n",
    "                      df = 4)  #Df = number of variable categoreis - 1\n",
    "\n",
    "print(\"Critical value\")\n",
    "print(crit)\n",
    "\n",
    "p_value = 1 -stats.chi2.cdf(x = chi_squared_stat,\n",
    "                            df = 4)\n",
    "\n",
    "print(\"P value\")\n",
    "print(p_value)"
   ]
  },
  {
   "cell_type": "markdown",
   "metadata": {},
   "source": [
    "Since, our chi-squared statistic exceeds the critical value, and p-value is extreme low (hence, it is not captured), we would reject the null hypothesis that the two distributions are same. "
   ]
  },
  {
   "cell_type": "code",
   "execution_count": 5,
   "metadata": {},
   "outputs": [
    {
     "data": {
      "text/plain": [
       "Power_divergenceResult(statistic=array([232.62910798]), pvalue=array([3.58577414e-49]))"
      ]
     },
     "execution_count": 5,
     "metadata": {},
     "output_type": "execute_result"
    }
   ],
   "source": [
    "stats.chisquare(f_obs = observed_table, # Array of observed counts\n",
    "                f_exp = expected_table) # Array of expected counts"
   ]
  },
  {
   "cell_type": "markdown",
   "metadata": {},
   "source": [
    "## Chi-square test of independence"
   ]
  },
  {
   "cell_type": "markdown",
   "metadata": {},
   "source": [
    "The chi-squared test of independence tests whether two categorical variables are independent. This test is commonly used to determine whehter two variables like education, political views and other preferences vary based on demogrpahic factors like gender, race and religion. Let us create some fake voter polling data and peform a test of independence"
   ]
  },
  {
   "cell_type": "code",
   "execution_count": 6,
   "metadata": {},
   "outputs": [
    {
     "data": {
      "text/html": [
       "<div>\n",
       "<style scoped>\n",
       "    .dataframe tbody tr th:only-of-type {\n",
       "        vertical-align: middle;\n",
       "    }\n",
       "\n",
       "    .dataframe tbody tr th {\n",
       "        vertical-align: top;\n",
       "    }\n",
       "\n",
       "    .dataframe thead th {\n",
       "        text-align: right;\n",
       "    }\n",
       "</style>\n",
       "<table border=\"1\" class=\"dataframe\">\n",
       "  <thead>\n",
       "    <tr style=\"text-align: right;\">\n",
       "      <th></th>\n",
       "      <th>Low_class</th>\n",
       "      <th>Middle_class</th>\n",
       "      <th>Upper_class</th>\n",
       "      <th>row_totals</th>\n",
       "    </tr>\n",
       "  </thead>\n",
       "  <tbody>\n",
       "    <tr>\n",
       "      <th>Jan</th>\n",
       "      <td>85</td>\n",
       "      <td>54</td>\n",
       "      <td>12</td>\n",
       "      <td>151</td>\n",
       "    </tr>\n",
       "    <tr>\n",
       "      <th>Feb</th>\n",
       "      <td>25</td>\n",
       "      <td>24</td>\n",
       "      <td>4</td>\n",
       "      <td>53</td>\n",
       "    </tr>\n",
       "    <tr>\n",
       "      <th>Sep</th>\n",
       "      <td>35</td>\n",
       "      <td>23</td>\n",
       "      <td>1</td>\n",
       "      <td>59</td>\n",
       "    </tr>\n",
       "    <tr>\n",
       "      <th>Nov</th>\n",
       "      <td>228</td>\n",
       "      <td>115</td>\n",
       "      <td>53</td>\n",
       "      <td>396</td>\n",
       "    </tr>\n",
       "    <tr>\n",
       "      <th>Other</th>\n",
       "      <td>210</td>\n",
       "      <td>96</td>\n",
       "      <td>35</td>\n",
       "      <td>341</td>\n",
       "    </tr>\n",
       "    <tr>\n",
       "      <th>col_totals</th>\n",
       "      <td>583</td>\n",
       "      <td>312</td>\n",
       "      <td>105</td>\n",
       "      <td>1000</td>\n",
       "    </tr>\n",
       "  </tbody>\n",
       "</table>\n",
       "</div>"
      ],
      "text/plain": [
       "            Low_class  Middle_class  Upper_class  row_totals\n",
       "Jan                85            54           12         151\n",
       "Feb                25            24            4          53\n",
       "Sep                35            23            1          59\n",
       "Nov               228           115           53         396\n",
       "Other             210            96           35         341\n",
       "col_totals        583           312          105        1000"
      ]
     },
     "execution_count": 6,
     "metadata": {},
     "output_type": "execute_result"
    }
   ],
   "source": [
    "np.random.seed(10)\n",
    "\n",
    "# Sample data random.y at fixed probabilities\n",
    "spending_month = np.random.choice(a = [\"Jan\", \"Feb\", \"Sep\", \"Nov\", \"Other\"],\n",
    "                              p = [0.04, 0.15, 0.35, 0.06, 0.4],\n",
    "                              size = 1000)\n",
    "\n",
    "# Sample data randomly at fixed probabilies\n",
    "customer_segment = np.random.choice(a = [\"Low_class\", \"Middle_class\", \"Upper_class\"],\n",
    "                               p = [0.6, 0.3, 0.1],\n",
    "                               size = 1000)\n",
    "\n",
    "customers = pd.DataFrame({\"month\": spending_month,\n",
    "                       \"segment\": customer_segment})\n",
    "\n",
    "voter_tab = pd.crosstab(customers.month, customers.segment, margins = True)\n",
    "voter_tab.columns = [\"Low_class\", \"Middle_class\", \"Upper_class\", \"row_totals\"]\n",
    "voter_tab.index = [\"Jan\", \"Feb\", \"Sep\", \"Nov\", \"Other\", \"col_totals\"]\n",
    "observed2d = voter_tab.iloc[0:5, 0:3] # getting the data for later use\n",
    "voter_tab"
   ]
  },
  {
   "cell_type": "markdown",
   "metadata": {},
   "source": [
    "Since, we have not used race data to connect with party data, so the variables are independent.\n",
    "\n",
    "To find the independence, we have to use the same chi-squared formula that we used for goodness-of-fit test. The only difference is we have to calculate the expected counts in a 2-dimensional table instead of 1-dimensional table.\n",
    "\n",
    "To get the expected counts for a cell, multiply row total for that cell by the column total for that cell and divide by the nymber of observations. \n",
    "\n",
    "We are using np.outer functio to get the expected counts for all cells in the table by the total number of observations. "
   ]
  },
  {
   "cell_type": "code",
   "execution_count": 7,
   "metadata": {},
   "outputs": [
    {
     "data": {
      "text/html": [
       "<div>\n",
       "<style scoped>\n",
       "    .dataframe tbody tr th:only-of-type {\n",
       "        vertical-align: middle;\n",
       "    }\n",
       "\n",
       "    .dataframe tbody tr th {\n",
       "        vertical-align: top;\n",
       "    }\n",
       "\n",
       "    .dataframe thead th {\n",
       "        text-align: right;\n",
       "    }\n",
       "</style>\n",
       "<table border=\"1\" class=\"dataframe\">\n",
       "  <thead>\n",
       "    <tr style=\"text-align: right;\">\n",
       "      <th></th>\n",
       "      <th>Low_class</th>\n",
       "      <th>Middle_class</th>\n",
       "      <th>Upper_class</th>\n",
       "    </tr>\n",
       "  </thead>\n",
       "  <tbody>\n",
       "    <tr>\n",
       "      <th>Jan</th>\n",
       "      <td>88.033</td>\n",
       "      <td>47.112</td>\n",
       "      <td>15.855</td>\n",
       "    </tr>\n",
       "    <tr>\n",
       "      <th>Feb</th>\n",
       "      <td>30.899</td>\n",
       "      <td>16.536</td>\n",
       "      <td>5.565</td>\n",
       "    </tr>\n",
       "    <tr>\n",
       "      <th>Sep</th>\n",
       "      <td>34.397</td>\n",
       "      <td>18.408</td>\n",
       "      <td>6.195</td>\n",
       "    </tr>\n",
       "    <tr>\n",
       "      <th>Nov</th>\n",
       "      <td>230.868</td>\n",
       "      <td>123.552</td>\n",
       "      <td>41.580</td>\n",
       "    </tr>\n",
       "    <tr>\n",
       "      <th>Other</th>\n",
       "      <td>198.803</td>\n",
       "      <td>106.392</td>\n",
       "      <td>35.805</td>\n",
       "    </tr>\n",
       "  </tbody>\n",
       "</table>\n",
       "</div>"
      ],
      "text/plain": [
       "       Low_class  Middle_class  Upper_class\n",
       "Jan       88.033        47.112       15.855\n",
       "Feb       30.899        16.536        5.565\n",
       "Sep       34.397        18.408        6.195\n",
       "Nov      230.868       123.552       41.580\n",
       "Other    198.803       106.392       35.805"
      ]
     },
     "execution_count": 7,
     "metadata": {},
     "output_type": "execute_result"
    }
   ],
   "source": [
    "# The below code is calculating the outer values \n",
    "# (adds up the outer rows and columns)\n",
    "\n",
    "expected2d = np.outer(voter_tab[\"row_totals\"][0 : 5],\n",
    "                    voter_tab.loc[\"col_totals\"][0 : 3]) / 1000\n",
    "\n",
    "expected2d = pd.DataFrame(expected2d)\n",
    "expected2d.columns = [\"Low_class\", \"Middle_class\", \"Upper_class\"]\n",
    "expected2d.index = [\"Jan\", \"Feb\", \"Sep\", \"Nov\", \"Other\"]\n",
    "\n",
    "expected2d"
   ]
  },
  {
   "cell_type": "markdown",
   "metadata": {},
   "source": [
    "Now, let us apply the chi-squared statistic and calcualte the p-value"
   ]
  },
  {
   "cell_type": "code",
   "execution_count": 8,
   "metadata": {},
   "outputs": [
    {
     "name": "stdout",
     "output_type": "stream",
     "text": [
      "17.924643480097544\n"
     ]
    }
   ],
   "source": [
    "chi_squared_stat2 = (((observed2d-expected2d)**2)/expected2d).sum().sum()\n",
    "\n",
    "print(chi_squared_stat2)\n",
    "\n",
    "# We used sum twice to add the  columns and rows together, from 2d table"
   ]
  },
  {
   "cell_type": "code",
   "execution_count": 9,
   "metadata": {},
   "outputs": [
    {
     "name": "stdout",
     "output_type": "stream",
     "text": [
      "Critical value\n",
      "15.50731305586545\n",
      "P value\n",
      "0.021798595389257547\n"
     ]
    }
   ],
   "source": [
    "crit = stats.chi2.ppf(q = 0.95,\n",
    "                      df = 8)\n",
    "\n",
    "print(\"Critical value\")\n",
    "print(crit)\n",
    "\n",
    "p_value = 1 - stats.chi2.cdf(x = chi_squared_stat2, df = 8)\n",
    "\n",
    "print(\"P value\")\n",
    "print(p_value)"
   ]
  },
  {
   "cell_type": "markdown",
   "metadata": {},
   "source": [
    " Here, our critical value is much higher than the chi-test statistic and also the p-value is so high. Hence, we conclude that we cannot reject the null hypothesis."
   ]
  },
  {
   "cell_type": "markdown",
   "metadata": {},
   "source": [
    "### Note : \n",
    "The degrees of freedom for a test of independence equals the product of the number of categories - 1. In this case, we have 5 * 3 table, hence we give 4 * 2 = 8\n",
    "\n",
    "We cab aksi yse stats.chi_contingency() function to conduct a test of independence automatically given a frequency of observed counts."
   ]
  },
  {
   "cell_type": "code",
   "execution_count": 10,
   "metadata": {},
   "outputs": [
    {
     "data": {
      "text/plain": [
       "Chi2ContingencyResult(statistic=17.924643480097544, pvalue=0.021798595389257592, dof=8, expected_freq=array([[ 88.033,  47.112,  15.855],\n",
       "       [ 30.899,  16.536,   5.565],\n",
       "       [ 34.397,  18.408,   6.195],\n",
       "       [230.868, 123.552,  41.58 ],\n",
       "       [198.803, 106.392,  35.805]]))"
      ]
     },
     "execution_count": 10,
     "metadata": {},
     "output_type": "execute_result"
    }
   ],
   "source": [
    "stats.chi2_contingency(observed = observed2d)"
   ]
  },
  {
   "cell_type": "markdown",
   "metadata": {},
   "source": [
    "Chi-squared tests provide a way to investigate the differences in the distributions of categorical variables with the same categories and dependence between categorical variables. "
   ]
  }
 ],
 "metadata": {
  "kernelspec": {
   "display_name": "machine-learn",
   "language": "python",
   "name": "python3"
  },
  "language_info": {
   "codemirror_mode": {
    "name": "ipython",
    "version": 3
   },
   "file_extension": ".py",
   "mimetype": "text/x-python",
   "name": "python",
   "nbconvert_exporter": "python",
   "pygments_lexer": "ipython3",
   "version": "3.11.5"
  }
 },
 "nbformat": 4,
 "nbformat_minor": 2
}
