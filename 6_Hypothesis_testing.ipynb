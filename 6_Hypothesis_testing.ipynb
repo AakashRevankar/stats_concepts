{
 "cells": [
  {
   "cell_type": "markdown",
   "metadata": {},
   "source": [
    "## Hypothesis testing\n",
    "\n",
    "A hypothesis testing is a statistical method that uses sample data to evaluate a hypothesis about a population.\n",
    "\n",
    "We have some sample data and we feel it may belong to certain population or distribution. Also, it may not belong to that population and different in some way.\n",
    "\n",
    "So, we use hyothesis testing to solve this kind of issue. Null hypothesis states that everything is same and nothing is changed and alternative hypothesis states that something interesting is going on and has changed something. \n",
    "\n",
    "The hypothesis tesitng determines the null hypothesis is correct or accept alternative hypothesis. The hypothesis testing has two things :\n",
    "\n",
    "* Population distribution\n",
    "* sample distribtion\n",
    "\n",
    "Then we need to set significance level it may belong   "
   ]
  },
  {
   "cell_type": "markdown",
   "metadata": {},
   "source": [
    "## T-test\n",
    "\n",
    "T-test is a statisitical test used to determine whether the numerical data samples differes from significantly from population or whether two samples differ from one another.\n",
    "\n",
    "* Sample size < 30.\n",
    "* We do not know the population variance.\n",
    "* It follows a student t distribution."
   ]
  },
  {
   "cell_type": "markdown",
   "metadata": {},
   "source": [
    "#### One sample T-test\n",
    "\n",
    "A  one-sample t-test checks whether a sample mean differs from the population mean. \n",
    "\n",
    "The basic formula for one sample T-test is given by:\n",
    "\n",
    "$$ t = \\frac{{x - \\mu}}{{s/\\sqrt{n}}} $$\n",
    "\n",
    "where:\n",
    "\n",
    "* $x$ is the sample mean.\n",
    "* $\\mu$ is the population mean.\n",
    "* $s$ is the sample standard deviation.\n",
    "* $n$ is the sample size.\n",
    "\n",
    "Let us create some dummy customer segmentation data for the entire airline industry and a sample of customer segmentation data for Boeing company. Also, test whether the average profits of Boeing differs from rest of the companies."
   ]
  },
  {
   "cell_type": "code",
   "execution_count": 1,
   "metadata": {},
   "outputs": [],
   "source": [
    "import numpy as np\n",
    "import pandas as pd\n",
    "import scipy.stats as stats \n",
    "import matplotlib.pyplot as plt\n",
    "import math"
   ]
  },
  {
   "cell_type": "code",
   "execution_count": 2,
   "metadata": {},
   "outputs": [
    {
     "name": "stdout",
     "output_type": "stream",
     "text": [
      "600.014032\n",
      "547.8545454545455\n"
     ]
    }
   ],
   "source": [
    "np.random.seed(10)\n",
    "\n",
    "# Generate data for frequent business travellers and occasional travellers\n",
    "segment1_spending = stats.poisson.rvs(loc = 160, mu = 600, size = 150000)\n",
    "segment2_spending = stats.poisson.rvs(loc = 160, mu = 200, size = 100000)\n",
    "population_segment_spending = np.concatenate((segment1_spending, segment2_spending)) \n",
    "\n",
    "boeing_high_spending = stats.poisson.rvs(loc = 160, mu = 500, size = 35)\n",
    "boeing_occasional_spending = stats.poisson.rvs(loc = 160, mu = 200, size = 20)\n",
    "boeing_spending = np.concatenate((boeing_high_spending, boeing_occasional_spending))\n",
    "\n",
    "print(population_segment_spending.mean()) \n",
    "print(boeing_spending.mean())"
   ]
  },
  {
   "cell_type": "markdown",
   "metadata": {},
   "source": [
    "We have combined slightly different values in boeing spending, so let's find out if t-test finds two means are different"
   ]
  },
  {
   "cell_type": "code",
   "execution_count": 3,
   "metadata": {},
   "outputs": [
    {
     "data": {
      "text/plain": [
       "TtestResult(statistic=-2.5948683520204314, pvalue=0.012158765213083872, df=54)"
      ]
     },
     "execution_count": 3,
     "metadata": {},
     "output_type": "execute_result"
    }
   ],
   "source": [
    "stats.ttest_1samp(a = boeing_spending,\n",
    "                  popmean = population_segment_spending.mean())"
   ]
  },
  {
   "cell_type": "markdown",
   "metadata": {},
   "source": [
    "The test t-statistics = -2.595 tells us that the sample mean deviates -2.595 times from the population mean or null hypothesis. If t-statistics lies outside the quantiles of the t-distribution corresponding to our confidence level and degrees of freedom, we reject the null hypothesis."
   ]
  },
  {
   "cell_type": "code",
   "execution_count": 4,
   "metadata": {},
   "outputs": [
    {
     "name": "stdout",
     "output_type": "stream",
     "text": [
      "Lower quantile -2.0048792865665233\n",
      "Upper quantile 2.004879286566523\n"
     ]
    }
   ],
   "source": [
    "# Lower quantile (df = N-1)\n",
    "lower_quantile = stats.t.ppf(q = 0.025, df = 54) \n",
    "print(\"Lower quantile\", lower_quantile)\n",
    "\n",
    "# Upper quantile\n",
    "upper_quantile = stats.t.ppf(q = 0.975, df = 54)\n",
    "print(\"Upper quantile\", upper_quantile)"
   ]
  },
  {
   "cell_type": "markdown",
   "metadata": {},
   "source": [
    "Since, we have got the t-statistic value of -2.595 < -2.00. Hence, we conclude to accept the alternative hypotheis"
   ]
  },
  {
   "cell_type": "markdown",
   "metadata": {},
   "source": [
    "We can calculate the chances of seeing a result as extreme as the one we have obsereved (known as the p-value) by passing the t-statistic in as the quantile to the stats.t.cdf() function."
   ]
  },
  {
   "cell_type": "code",
   "execution_count": 5,
   "metadata": {},
   "outputs": [
    {
     "data": {
      "text/plain": [
       "0.012154636092455718"
      ]
     },
     "execution_count": 5,
     "metadata": {},
     "output_type": "execute_result"
    }
   ],
   "source": [
    "stats.t.cdf(x = -2.595,  # T-test statistic\n",
    "            df = 54) * 2  # Multiply two for two-tailed test "
   ]
  },
  {
   "cell_type": "markdown",
   "metadata": {},
   "source": [
    "Note : Tha above value is same as p-value listed in the original t-test output. It indicates the chance of our sample if null hypothesis is true is about 1.2%. \n",
    "\n",
    "In this case, the p-value is lower than the significance level alpha (1 - conf.level), so we should reject the null hypothesis.\n",
    "\n",
    "The above sentence also mean if we were to construct a 95% confidence interval for the sample, it would not capture the population mean of 600."
   ]
  },
  {
   "cell_type": "code",
   "execution_count": 7,
   "metadata": {},
   "outputs": [
    {
     "data": {
      "text/plain": [
       "(507.9224829314841, 587.7866079776069)"
      ]
     },
     "execution_count": 7,
     "metadata": {},
     "output_type": "execute_result"
    }
   ],
   "source": [
    "# Calculating the 95% confidence interval\n",
    "\n",
    "sigma = boeing_spending.std() / math.sqrt(55)  # Sample stdev / sample size\n",
    "\n",
    "stats.t.interval(confidence= 0.95,\n",
    "                 df = 54,\n",
    "                 loc = boeing_spending.mean(),\n",
    "                 scale = sigma)"
   ]
  },
  {
   "cell_type": "markdown",
   "metadata": {},
   "source": [
    "On the other hand, because we have 1.2% chance of seeing a result due to chance, it is not significant if the confidence interval is 99%, let us see the proof below"
   ]
  },
  {
   "cell_type": "code",
   "execution_count": 8,
   "metadata": {},
   "outputs": [
    {
     "data": {
      "text/plain": [
       "(494.6752839831485, 601.0338069259424)"
      ]
     },
     "execution_count": 8,
     "metadata": {},
     "output_type": "execute_result"
    }
   ],
   "source": [
    "# Calcualting for the 99% confidence interval\n",
    "\n",
    "stats.t.interval(confidence = 0.99,\n",
    "                 df = 54,\n",
    "                 loc = boeing_spending.mean(),\n",
    "                 scale = sigma)"
   ]
  },
  {
   "cell_type": "markdown",
   "metadata": {},
   "source": [
    "## Two-sample T-test"
   ]
  },
  {
   "cell_type": "markdown",
   "metadata": {},
   "source": [
    "A two-sample t-test investigates whether the two independent data samples differ from one another. In a two-sample test, the null hypothesis is that the means of both samples are same. \n",
    "\n",
    "The one-sample t-test was used to compare sample mean with a known population parameter, But, in two-sample t-test , we test by passing the stats.ttend_ind() function"
   ]
  },
  {
   "cell_type": "code",
   "execution_count": 35,
   "metadata": {},
   "outputs": [
    {
     "name": "stdout",
     "output_type": "stream",
     "text": [
      "273.1636363636364\n"
     ]
    }
   ],
   "source": [
    "np.random.seed(10)\n",
    "american_air_spending_high= stats.poisson.rvs(loc= 100, mu = 150, size = 35)\n",
    "american_air_spending_low = stats.poisson.rvs(loc = 100, mu = 220, size = 20)\n",
    "american_airlines_spending = np.concatenate((american_air_spending_high, american_air_spending_low))\n",
    "\n",
    "print(american_airlines_spending.mean())"
   ]
  },
  {
   "cell_type": "code",
   "execution_count": 36,
   "metadata": {},
   "outputs": [
    {
     "data": {
      "text/plain": [
       "TtestResult(statistic=13.322374726547809, pvalue=1.586344304642062e-19, df=59.61995192545434)"
      ]
     },
     "execution_count": 36,
     "metadata": {},
     "output_type": "execute_result"
    }
   ],
   "source": [
    "stats.ttest_ind(a = boeing_spending,\n",
    "                b = american_airlines_spending,\n",
    "                equal_var = False)  # Assumes samples have equal variance"
   ]
  },
  {
   "cell_type": "markdown",
   "metadata": {},
   "source": [
    "The test yields a p-value of $1.5 \\times 10^{-19}$, which means there the p-value is extreme low compared to 95% confidence interval of 0.05. Hence, we reject the null hypothesis. "
   ]
  },
  {
   "cell_type": "markdown",
   "metadata": {},
   "source": [
    "## Paired T-test"
   ]
  },
  {
   "cell_type": "markdown",
   "metadata": {},
   "source": [
    "This t-test is used to test the samples in the same group. For example, the company changed the UI design and want to check if users spent more time to buy on the website. A paired t-test lets you check whether the means of the samples from the same groups differ or not. "
   ]
  },
  {
   "cell_type": "code",
   "execution_count": 53,
   "metadata": {},
   "outputs": [
    {
     "data": {
      "text/html": [
       "<div>\n",
       "<style scoped>\n",
       "    .dataframe tbody tr th:only-of-type {\n",
       "        vertical-align: middle;\n",
       "    }\n",
       "\n",
       "    .dataframe tbody tr th {\n",
       "        vertical-align: top;\n",
       "    }\n",
       "\n",
       "    .dataframe thead th {\n",
       "        text-align: right;\n",
       "    }\n",
       "</style>\n",
       "<table border=\"1\" class=\"dataframe\">\n",
       "  <thead>\n",
       "    <tr style=\"text-align: right;\">\n",
       "      <th></th>\n",
       "      <th>time_before</th>\n",
       "      <th>time_after</th>\n",
       "      <th>time_change</th>\n",
       "    </tr>\n",
       "  </thead>\n",
       "  <tbody>\n",
       "    <tr>\n",
       "      <th>0</th>\n",
       "      <td>177.483642</td>\n",
       "      <td>231.855006</td>\n",
       "      <td>54.371364</td>\n",
       "    </tr>\n",
       "    <tr>\n",
       "      <th>1</th>\n",
       "      <td>116.417810</td>\n",
       "      <td>166.776071</td>\n",
       "      <td>50.358261</td>\n",
       "    </tr>\n",
       "    <tr>\n",
       "      <th>2</th>\n",
       "      <td>110.463046</td>\n",
       "      <td>152.267788</td>\n",
       "      <td>41.804742</td>\n",
       "    </tr>\n",
       "    <tr>\n",
       "      <th>3</th>\n",
       "      <td>45.400443</td>\n",
       "      <td>92.163930</td>\n",
       "      <td>46.763487</td>\n",
       "    </tr>\n",
       "    <tr>\n",
       "      <th>4</th>\n",
       "      <td>124.751461</td>\n",
       "      <td>178.840309</td>\n",
       "      <td>54.088848</td>\n",
       "    </tr>\n",
       "  </tbody>\n",
       "</table>\n",
       "</div>"
      ],
      "text/plain": [
       "   time_before  time_after  time_change\n",
       "0   177.483642  231.855006    54.371364\n",
       "1   116.417810  166.776071    50.358261\n",
       "2   110.463046  152.267788    41.804742\n",
       "3    45.400443   92.163930    46.763487\n",
       "4   124.751461  178.840309    54.088848"
      ]
     },
     "execution_count": 53,
     "metadata": {},
     "output_type": "execute_result"
    }
   ],
   "source": [
    "np.random.seed(11)\n",
    "before_ui = stats.norm.rvs(scale = 30, loc = 125, size = 100)\n",
    "after_ui = before_ui + stats.norm.rvs(scale = 5, loc = +50, size = 100)\n",
    "\n",
    "time_df = pd.DataFrame({\"time_before\" : before_ui,\n",
    "                          \"time_after\" : after_ui,\n",
    "                          \"time_change\" : after_ui - before_ui})\n",
    "\n",
    "time_df.head(5)"
   ]
  },
  {
   "cell_type": "code",
   "execution_count": 54,
   "metadata": {},
   "outputs": [
    {
     "data": {
      "text/html": [
       "<div>\n",
       "<style scoped>\n",
       "    .dataframe tbody tr th:only-of-type {\n",
       "        vertical-align: middle;\n",
       "    }\n",
       "\n",
       "    .dataframe tbody tr th {\n",
       "        vertical-align: top;\n",
       "    }\n",
       "\n",
       "    .dataframe thead th {\n",
       "        text-align: right;\n",
       "    }\n",
       "</style>\n",
       "<table border=\"1\" class=\"dataframe\">\n",
       "  <thead>\n",
       "    <tr style=\"text-align: right;\">\n",
       "      <th></th>\n",
       "      <th>time_before</th>\n",
       "      <th>time_after</th>\n",
       "      <th>time_change</th>\n",
       "    </tr>\n",
       "  </thead>\n",
       "  <tbody>\n",
       "    <tr>\n",
       "      <th>count</th>\n",
       "      <td>100.000000</td>\n",
       "      <td>100.000000</td>\n",
       "      <td>100.000000</td>\n",
       "    </tr>\n",
       "    <tr>\n",
       "      <th>mean</th>\n",
       "      <td>125.345546</td>\n",
       "      <td>175.365171</td>\n",
       "      <td>50.019625</td>\n",
       "    </tr>\n",
       "    <tr>\n",
       "      <th>std</th>\n",
       "      <td>28.132539</td>\n",
       "      <td>28.422183</td>\n",
       "      <td>4.783696</td>\n",
       "    </tr>\n",
       "    <tr>\n",
       "      <th>min</th>\n",
       "      <td>45.400443</td>\n",
       "      <td>92.163930</td>\n",
       "      <td>39.754714</td>\n",
       "    </tr>\n",
       "    <tr>\n",
       "      <th>25%</th>\n",
       "      <td>105.421042</td>\n",
       "      <td>155.398236</td>\n",
       "      <td>47.203789</td>\n",
       "    </tr>\n",
       "    <tr>\n",
       "      <th>50%</th>\n",
       "      <td>125.830805</td>\n",
       "      <td>177.384089</td>\n",
       "      <td>49.836537</td>\n",
       "    </tr>\n",
       "    <tr>\n",
       "      <th>75%</th>\n",
       "      <td>145.637145</td>\n",
       "      <td>195.177258</td>\n",
       "      <td>52.988673</td>\n",
       "    </tr>\n",
       "    <tr>\n",
       "      <th>max</th>\n",
       "      <td>189.700233</td>\n",
       "      <td>242.970357</td>\n",
       "      <td>61.009282</td>\n",
       "    </tr>\n",
       "  </tbody>\n",
       "</table>\n",
       "</div>"
      ],
      "text/plain": [
       "       time_before  time_after  time_change\n",
       "count   100.000000  100.000000   100.000000\n",
       "mean    125.345546  175.365171    50.019625\n",
       "std      28.132539   28.422183     4.783696\n",
       "min      45.400443   92.163930    39.754714\n",
       "25%     105.421042  155.398236    47.203789\n",
       "50%     125.830805  177.384089    49.836537\n",
       "75%     145.637145  195.177258    52.988673\n",
       "max     189.700233  242.970357    61.009282"
      ]
     },
     "execution_count": 54,
     "metadata": {},
     "output_type": "execute_result"
    }
   ],
   "source": [
    "time_df.describe()"
   ]
  },
  {
   "cell_type": "code",
   "execution_count": 55,
   "metadata": {},
   "outputs": [
    {
     "data": {
      "text/plain": [
       "TtestResult(statistic=-104.56271885992558, pvalue=3.7739409252142857e-103, df=99)"
      ]
     },
     "execution_count": 55,
     "metadata": {},
     "output_type": "execute_result"
    }
   ],
   "source": [
    "stats.ttest_rel(a = before_ui,\n",
    "                b = after_ui)"
   ]
  },
  {
   "cell_type": "markdown",
   "metadata": {},
   "source": [
    "The summary shows that the p-value is extremely small. Hence, we reject the null hypothesis and also we can see that the users have spent 50 seconds more in the website and it confirms that the new UI design work better than the previous one."
   ]
  },
  {
   "attachments": {
    "image.png": {
     "image/png": "[encoded data removed]"
    }
   },
   "cell_type": "markdown",
   "metadata": {},
   "source": [
    "### Type 1 and Type 2 error\n",
    "\n",
    "Type 1 error :\n",
    "Type 1 error occurs when you incorrectly reject the null hypothesis(H0) when it is actually true.\n",
    "\n",
    "Type 2 error :\n",
    "Type 2 error occurs when you fail to reject the null hypotheis(H0) wen the alternative hypotheis(H1) is true.\n",
    "\n",
    "![image.png](attachment:image.png)\n",
    "\n"
   ]
  },
  {
   "cell_type": "markdown",
   "metadata": {},
   "source": [
    "* Type 1 error is considered to be more worse or dangerous than type 2 because to reject what is true is more harmful thatn keeping the data which is not.\n",
    "* The maximum probability of type 1 error is called significance level alpha ($\\alpha$). Since, $\\alpha$ is probability, it only takes the value between  0 and 1. \n",
    "* We wish to reduce $\\alpha$ but when $\\alpha$ is reduced too much, the type 2 error increases.\n",
    "\n",
    "### Note :\n",
    "Some trends usually observed in the Type 1 and Type 2 error function.\n",
    "* Power is the area under the alternative hypothesis except type 2 error.\n",
    "* n is sample size\n",
    "* s is standard deviation \n",
    "* $\\delta$ is mena of alternative hypothesis\n",
    "\n",
    "1. If s increases, there is more overlap and Power decreases.\n",
    "2. If n increases, there is less overlap and power increases.\n",
    "3. if $\\delta$ increases, the curve shft towards right and power increases."
   ]
  }
 ],
 "metadata": {
  "kernelspec": {
   "display_name": "machine-learn",
   "language": "python",
   "name": "python3"
  },
  "language_info": {
   "codemirror_mode": {
    "name": "ipython",
    "version": 3
   },
   "file_extension": ".py",
   "mimetype": "text/x-python",
   "name": "python",
   "nbconvert_exporter": "python",
   "pygments_lexer": "ipython3",
   "version": "3.11.5"
  }
 },
 "nbformat": 4,
 "nbformat_minor": 2
}
